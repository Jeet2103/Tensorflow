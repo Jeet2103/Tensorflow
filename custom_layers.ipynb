{
 "cells": [
  {
   "cell_type": "code",
   "execution_count": 1,
   "metadata": {},
   "outputs": [],
   "source": [
    "import os\n",
    "os.environ['TP_CPP_MIN_LOG_LEVEL'] = '2'\n",
    "import tensorflow as tf\n",
    "from tensorflow import keras\n",
    "from tensorflow.keras import layers\n",
    "from tensorflow.keras.datasets import mnist"
   ]
  },
  {
   "cell_type": "code",
   "execution_count": 2,
   "metadata": {},
   "outputs": [],
   "source": [
    "(x_train, y_train), (x_test, y_test) = mnist.load_data()\n",
    "x_train = x_train.reshape(-1,28*28).astype('float32')/255.0\n",
    "x_test = x_test.reshape(-1,28*28).astype('float32')/255.0"
   ]
  },
  {
   "cell_type": "code",
   "execution_count": 3,
   "metadata": {},
   "outputs": [],
   "source": [
    "class Dense(layers.Layer):\n",
    "    def __init__(self,units):\n",
    "        super(Dense,self).__init__()\n",
    "        self.units = units \n",
    "\n",
    "    def build(self,input_shape):\n",
    "        self.w = self.add_weight(\n",
    "            name= 'w', shape = (input_shape[-1],self.units),\n",
    "            initializer = 'random_normal',\n",
    "            trainable = True,\n",
    "        )\n",
    "        self.b = self.add_weight(\n",
    "            name= 'b', shape = (self.units,),\n",
    "            initializer = 'zeros',\n",
    "            trainable = True,\n",
    "        )\n",
    "\n",
    "    def call(self,inputs):\n",
    "        return tf.matmul(inputs, self.w)+self.b"
   ]
  },
  {
   "cell_type": "code",
   "execution_count": 4,
   "metadata": {},
   "outputs": [],
   "source": [
    "class MyRelu(layers.Layer):\n",
    "    def __init__(self):\n",
    "        super(MyRelu,self).__init__()\n",
    "\n",
    "    def call(self,x):\n",
    "        return tf.math.maximum(x,0)"
   ]
  },
  {
   "cell_type": "code",
   "execution_count": 5,
   "metadata": {},
   "outputs": [],
   "source": [
    "class MyModel(keras.Model):\n",
    "    def __init__ (self,num_classes = 10):\n",
    "        super(MyModel,self).__init__()\n",
    "        self.dense1 = Dense(64)\n",
    "        self.dense2 = Dense(num_classes)\n",
    "        self.relu = MyRelu()\n",
    "        # self.dense1 = layers.Dense(64)\n",
    "        # self.dense2 = layers.Dense(num_classes)\n",
    "\n",
    "    def call(self,input_tensor):\n",
    "        # x= tf.nn.relu(self.dense1(input_tensor))\n",
    "        x= self.relu(self.dense1(input_tensor))\n",
    "        return self.dense2(x)\n",
    "    \n",
    "model = MyModel()"
   ]
  },
  {
   "cell_type": "code",
   "execution_count": 6,
   "metadata": {},
   "outputs": [],
   "source": [
    "model.compile(\n",
    "    optimizer = keras.optimizers.Adam(),\n",
    "    loss= keras.losses.SparseCategoricalCrossentropy(from_logits=True),\n",
    "    metrics = ['accuracy'],\n",
    "    run_eagerly = True,\n",
    "    )"
   ]
  },
  {
   "cell_type": "code",
   "execution_count": 7,
   "metadata": {},
   "outputs": [
    {
     "name": "stdout",
     "output_type": "stream",
     "text": [
      "Epoch 1/10\n",
      "1875/1875 - 19s - loss: 0.3474 - accuracy: 0.9038 - 19s/epoch - 10ms/step\n",
      "Epoch 2/10\n",
      "1875/1875 - 18s - loss: 0.1655 - accuracy: 0.9518 - 18s/epoch - 10ms/step\n",
      "Epoch 3/10\n",
      "1875/1875 - 19s - loss: 0.1177 - accuracy: 0.9657 - 19s/epoch - 10ms/step\n",
      "Epoch 4/10\n",
      "1875/1875 - 18s - loss: 0.0908 - accuracy: 0.9727 - 18s/epoch - 9ms/step\n",
      "Epoch 5/10\n",
      "1875/1875 - 17s - loss: 0.0746 - accuracy: 0.9770 - 17s/epoch - 9ms/step\n",
      "Epoch 6/10\n",
      "1875/1875 - 17s - loss: 0.0621 - accuracy: 0.9811 - 17s/epoch - 9ms/step\n",
      "Epoch 7/10\n",
      "1875/1875 - 17s - loss: 0.0529 - accuracy: 0.9839 - 17s/epoch - 9ms/step\n",
      "Epoch 8/10\n",
      "1875/1875 - 17s - loss: 0.0452 - accuracy: 0.9862 - 17s/epoch - 9ms/step\n",
      "Epoch 9/10\n",
      "1875/1875 - 18s - loss: 0.0391 - accuracy: 0.9882 - 18s/epoch - 9ms/step\n",
      "Epoch 10/10\n",
      "1875/1875 - 18s - loss: 0.0334 - accuracy: 0.9899 - 18s/epoch - 9ms/step\n",
      "Model: \"my_model\"\n",
      "_________________________________________________________________\n",
      " Layer (type)                Output Shape              Param #   \n",
      "=================================================================\n",
      " dense (Dense)               multiple                  50240     \n",
      "                                                                 \n",
      " dense_1 (Dense)             multiple                  650       \n",
      "                                                                 \n",
      " my_relu (MyRelu)            multiple                  0         \n",
      "                                                                 \n",
      "=================================================================\n",
      "Total params: 50,890\n",
      "Trainable params: 50,890\n",
      "Non-trainable params: 0\n",
      "_________________________________________________________________\n",
      "None\n",
      "313/313 - 2s - loss: 0.0879 - accuracy: 0.9750 - 2s/epoch - 6ms/step\n"
     ]
    },
    {
     "data": {
      "text/plain": [
       "[0.08791892975568771, 0.9750000238418579]"
      ]
     },
     "execution_count": 7,
     "metadata": {},
     "output_type": "execute_result"
    }
   ],
   "source": [
    "model.fit(x_train, y_train, batch_size = 32 , epochs = 10, verbose = 2)\n",
    "print(model.summary())\n",
    "model.evaluate(x_test, y_test, batch_size = 32, verbose = 2)"
   ]
  },
  {
   "cell_type": "code",
   "execution_count": null,
   "metadata": {},
   "outputs": [],
   "source": []
  }
 ],
 "metadata": {
  "kernelspec": {
   "display_name": "Python 3",
   "language": "python",
   "name": "python3"
  },
  "language_info": {
   "codemirror_mode": {
    "name": "ipython",
    "version": 3
   },
   "file_extension": ".py",
   "mimetype": "text/x-python",
   "name": "python",
   "nbconvert_exporter": "python",
   "pygments_lexer": "ipython3",
   "version": "3.9.18"
  }
 },
 "nbformat": 4,
 "nbformat_minor": 2
}
