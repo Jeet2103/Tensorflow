{
 "cells": [
  {
   "cell_type": "code",
   "execution_count": 1,
   "metadata": {},
   "outputs": [
    {
     "name": "stdout",
     "output_type": "stream",
     "text": [
      "WARNING:tensorflow:From C:\\Users\\hp\\AppData\\Roaming\\Python\\Python311\\site-packages\\keras\\src\\losses.py:2976: The name tf.losses.sparse_softmax_cross_entropy is deprecated. Please use tf.compat.v1.losses.sparse_softmax_cross_entropy instead.\n",
      "\n"
     ]
    }
   ],
   "source": [
    "import os\n",
    "os.environ['TF_CPP_MIN_LOG_LEVEL'] = '2'\n",
    "import tensorflow as tf\n",
    "from tensorflow import keras\n",
    "from tensorflow.keras import layers, regularizers\n",
    "from tensorflow.keras.datasets import cifar10"
   ]
  },
  {
   "cell_type": "code",
   "execution_count": 2,
   "metadata": {},
   "outputs": [],
   "source": [
    "(x_train, y_train),(x_test,y_test) = cifar10.load_data()\n",
    "x_train= x_train.astype(\"float32\")/255.0\n",
    "x_test= x_test.astype(\"float32\")/255.0"
   ]
  },
  {
   "cell_type": "code",
   "execution_count": 5,
   "metadata": {},
   "outputs": [],
   "source": [
    "# model = keras.Sequential(\n",
    "#     [\n",
    "#         keras.Input(shape=(32,32,3)),\n",
    "#         layers.Conv2D(32,3,padding='valid',activation = 'relu'),\n",
    "#         layers.MaxPooling2D(pool_size=(2,2)),\n",
    "#         layers.Conv2D(64,3,activation = 'relu'),\n",
    "#         layers.MaxPooling2D(),\n",
    "#         layers.Conv2D(128,3,activation = 'relu'),\n",
    "#         layers.Flatten(),\n",
    "#         layers.Dense(64,activation= 'relu'),\n",
    "#         layers.Dense(10),\n",
    "\n",
    "#     ]\n",
    "# )\n",
    "\n",
    "def my_model():\n",
    "    inputs = keras.Input(shape=(32,32,3))\n",
    "    x= layers.Conv2D(\n",
    "        32,3, padding = 'same' , kernel_regularizer = regularizers.l2(0.01),\n",
    "                     )(inputs)\n",
    "    x= layers. BatchNormalization()(x)\n",
    "    x= keras.activations.relu(x)\n",
    "    x= layers.MaxPooling2D()(x)\n",
    "    x= layers.Conv2D(\n",
    "        64,3, padding = 'same' , kernel_regularizer = regularizers.l2(0.01),\n",
    "        )(x)\n",
    "    x= layers. BatchNormalization()(x)\n",
    "    x= keras.activations.relu(x)\n",
    "    x= layers.Conv2D(\n",
    "        128,3, padding = 'same' , kernel_regularizer = regularizers.l2(0.01),\n",
    "        )(x)\n",
    "    x= layers. BatchNormalization()(x)\n",
    "    x= keras.activations.relu(x)\n",
    "    x= layers.Flatten()(x)\n",
    "    x= layers.Dense(\n",
    "        64,activation= 'relu', kernel_regularizer = regularizers.l2(0.01),\n",
    "        )(x)\n",
    "    x= layers.Dropout(0.5)(x)\n",
    "    outputs = layers.Dense(10)(x)\n",
    "    model = keras.Model(inputs = inputs , outputs = outputs)\n",
    "    return model\n",
    "\n"
   ]
  },
  {
   "cell_type": "code",
   "execution_count": 6,
   "metadata": {},
   "outputs": [
    {
     "name": "stdout",
     "output_type": "stream",
     "text": [
      "WARNING:tensorflow:From C:\\Users\\hp\\AppData\\Roaming\\Python\\Python311\\site-packages\\keras\\src\\backend.py:1398: The name tf.executing_eagerly_outside_functions is deprecated. Please use tf.compat.v1.executing_eagerly_outside_functions instead.\n",
      "\n",
      "WARNING:tensorflow:From C:\\Users\\hp\\AppData\\Roaming\\Python\\Python311\\site-packages\\keras\\src\\layers\\normalization\\batch_normalization.py:979: The name tf.nn.fused_batch_norm is deprecated. Please use tf.compat.v1.nn.fused_batch_norm instead.\n",
      "\n",
      "Model: \"model\"\n",
      "_________________________________________________________________\n",
      " Layer (type)                Output Shape              Param #   \n",
      "=================================================================\n",
      " input_1 (InputLayer)        [(None, 32, 32, 3)]       0         \n",
      "                                                                 \n",
      " conv2d (Conv2D)             (None, 32, 32, 32)        896       \n",
      "                                                                 \n",
      " batch_normalization (Batch  (None, 32, 32, 32)        128       \n",
      " Normalization)                                                  \n",
      "                                                                 \n",
      " tf.nn.relu (TFOpLambda)     (None, 32, 32, 32)        0         \n",
      "                                                                 \n",
      " max_pooling2d (MaxPooling2  (None, 16, 16, 32)        0         \n",
      " D)                                                              \n",
      "                                                                 \n",
      " conv2d_1 (Conv2D)           (None, 16, 16, 64)        18496     \n",
      "                                                                 \n",
      " batch_normalization_1 (Bat  (None, 16, 16, 64)        256       \n",
      " chNormalization)                                                \n",
      "                                                                 \n",
      " tf.nn.relu_1 (TFOpLambda)   (None, 16, 16, 64)        0         \n",
      "                                                                 \n",
      " conv2d_2 (Conv2D)           (None, 16, 16, 128)       73856     \n",
      "                                                                 \n",
      " batch_normalization_2 (Bat  (None, 16, 16, 128)       512       \n",
      " chNormalization)                                                \n",
      "                                                                 \n",
      " tf.nn.relu_2 (TFOpLambda)   (None, 16, 16, 128)       0         \n",
      "                                                                 \n",
      " flatten (Flatten)           (None, 32768)             0         \n",
      "                                                                 \n",
      " dense (Dense)               (None, 64)                2097216   \n",
      "                                                                 \n",
      " dropout (Dropout)           (None, 64)                0         \n",
      "                                                                 \n",
      " dense_1 (Dense)             (None, 10)                650       \n",
      "                                                                 \n",
      "=================================================================\n",
      "Total params: 2192010 (8.36 MB)\n",
      "Trainable params: 2191562 (8.36 MB)\n",
      "Non-trainable params: 448 (1.75 KB)\n",
      "_________________________________________________________________\n",
      "None\n"
     ]
    }
   ],
   "source": [
    "model = my_model()\n",
    "print(model.summary())\n",
    "model.compile(\n",
    "    loss = keras.losses.SparseCategoricalCrossentropy(from_logits= True),\n",
    "    optimizer = keras.optimizers.Adam(learning_rate= 0.0003),\n",
    "    metrics = [\"accuracy\"],\n",
    ")"
   ]
  },
  {
   "cell_type": "code",
   "execution_count": 7,
   "metadata": {},
   "outputs": [
    {
     "name": "stdout",
     "output_type": "stream",
     "text": [
      "Epoch 1/3\n",
      "WARNING:tensorflow:From C:\\Users\\hp\\AppData\\Roaming\\Python\\Python311\\site-packages\\keras\\src\\utils\\tf_utils.py:492: The name tf.ragged.RaggedTensorValue is deprecated. Please use tf.compat.v1.ragged.RaggedTensorValue instead.\n",
      "\n",
      "WARNING:tensorflow:From C:\\Users\\hp\\AppData\\Roaming\\Python\\Python311\\site-packages\\keras\\src\\engine\\base_layer_utils.py:384: The name tf.executing_eagerly_outside_functions is deprecated. Please use tf.compat.v1.executing_eagerly_outside_functions instead.\n",
      "\n",
      "782/782 - 29s - loss: 3.0401 - accuracy: 0.1578 - 29s/epoch - 36ms/step\n",
      "Epoch 2/3\n",
      "782/782 - 29s - loss: 2.2573 - accuracy: 0.1785 - 29s/epoch - 37ms/step\n",
      "Epoch 3/3\n",
      "782/782 - 27s - loss: 2.1117 - accuracy: 0.2280 - 27s/epoch - 34ms/step\n",
      "157/157 - 2s - loss: 1.8293 - accuracy: 0.3739 - 2s/epoch - 12ms/step\n"
     ]
    },
    {
     "data": {
      "text/plain": [
       "[1.8292769193649292, 0.37389999628067017]"
      ]
     },
     "execution_count": 7,
     "metadata": {},
     "output_type": "execute_result"
    }
   ],
   "source": [
    "model.fit(x_train,y_train,batch_size=64, epochs= 3, verbose= 2)\n",
    "model.evaluate(x_test, y_test,batch_size=64, verbose=2)"
   ]
  }
 ],
 "metadata": {
  "kernelspec": {
   "display_name": "Python 3",
   "language": "python",
   "name": "python3"
  },
  "language_info": {
   "codemirror_mode": {
    "name": "ipython",
    "version": 3
   },
   "file_extension": ".py",
   "mimetype": "text/x-python",
   "name": "python",
   "nbconvert_exporter": "python",
   "pygments_lexer": "ipython3",
   "version": "3.11.5"
  }
 },
 "nbformat": 4,
 "nbformat_minor": 2
}
