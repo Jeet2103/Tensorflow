{
 "cells": [
  {
   "cell_type": "code",
   "execution_count": 4,
   "metadata": {},
   "outputs": [],
   "source": [
    "import os\n",
    "os.environ['TF_CPP_MIN_LOG_LEVEL'] = '2'\n",
    "import tensorflow as tf\n",
    "from tensorflow import keras\n",
    "from tensorflow.keras import layers\n",
    "from tensorflow.keras.datasets import cifar10"
   ]
  },
  {
   "cell_type": "code",
   "execution_count": 5,
   "metadata": {},
   "outputs": [
    {
     "name": "stdout",
     "output_type": "stream",
     "text": [
      "Downloading data from https://www.cs.toronto.edu/~kriz/cifar-10-python.tar.gz\n",
      "170498071/170498071 [==============================] - 59s 0us/step\n"
     ]
    }
   ],
   "source": [
    "(x_train, y_train),(x_test,y_test) = cifar10.load_data()\n",
    "x_train= x_train.astype(\"float32\")/255.0\n",
    "x_test= x_test.astype(\"float32\")/255.0"
   ]
  },
  {
   "cell_type": "code",
   "execution_count": 33,
   "metadata": {},
   "outputs": [],
   "source": [
    "# model = keras.Sequential(\n",
    "#     [\n",
    "#         keras.Input(shape=(32,32,3)),\n",
    "#         layers.Conv2D(32,3,padding='valid',activation = 'relu'),\n",
    "#         layers.MaxPooling2D(pool_size=(2,2)),\n",
    "#         layers.Conv2D(64,3,activation = 'relu'),\n",
    "#         layers.MaxPooling2D(),\n",
    "#         layers.Conv2D(128,3,activation = 'relu'),\n",
    "#         layers.Flatten(),\n",
    "#         layers.Dense(64,activation= 'relu'),\n",
    "#         layers.Dense(10),\n",
    "\n",
    "#     ]\n",
    "# )\n",
    "# print(model.summary())\n",
    "def my_model():\n",
    "    inputs = keras.Input(shape=(32,32,3))\n",
    "    x= layers.Conv2D(32,3)(inputs)\n",
    "    x= layers. BatchNormalization()(x)\n",
    "    x= keras.activations.relu(x)\n",
    "    x= layers.MaxPooling2D()(x)\n",
    "    x= layers.Conv2D(64,5, padding = 'same')(x)\n",
    "    x= layers. BatchNormalization()(x)\n",
    "    x= keras.activations.relu(x)\n",
    "    x= layers.Conv2D(128,3)(x)\n",
    "    x= layers. BatchNormalization()(x)\n",
    "    x= keras.activations.relu(x)\n",
    "    x= layers.Flatten()(x)\n",
    "    x= layers.Dense(64,activation= 'relu')(x)\n",
    "    outputs = layers.Dense(10)(x)\n",
    "    model = keras.Model(inputs = inputs , outputs = outputs)\n",
    "    return model\n",
    "\n"
   ]
  },
  {
   "cell_type": "code",
   "execution_count": 34,
   "metadata": {},
   "outputs": [],
   "source": [
    "model = my_model()\n",
    "model.compile(\n",
    "    loss = keras.losses.SparseCategoricalCrossentropy(from_logits= True),\n",
    "    optimizer = keras.optimizers.Adam(learning_rate= 0.0003),\n",
    "    metrics = [\"accuracy\"],\n",
    ")"
   ]
  },
  {
   "cell_type": "code",
   "execution_count": 35,
   "metadata": {},
   "outputs": [
    {
     "name": "stdout",
     "output_type": "stream",
     "text": [
      "Epoch 1/10\n",
      "782/782 - 21s - loss: 1.3420 - accuracy: 0.5210 - 21s/epoch - 27ms/step\n",
      "Epoch 2/10\n",
      "782/782 - 20s - loss: 0.9312 - accuracy: 0.6709 - 20s/epoch - 25ms/step\n",
      "Epoch 3/10\n",
      "782/782 - 20s - loss: 0.7646 - accuracy: 0.7299 - 20s/epoch - 25ms/step\n",
      "Epoch 4/10\n",
      "782/782 - 20s - loss: 0.6487 - accuracy: 0.7722 - 20s/epoch - 25ms/step\n",
      "Epoch 5/10\n",
      "782/782 - 19s - loss: 0.5606 - accuracy: 0.8031 - 19s/epoch - 25ms/step\n",
      "Epoch 6/10\n",
      "782/782 - 19s - loss: 0.4811 - accuracy: 0.8318 - 19s/epoch - 25ms/step\n",
      "Epoch 7/10\n",
      "782/782 - 19s - loss: 0.4102 - accuracy: 0.8580 - 19s/epoch - 25ms/step\n",
      "Epoch 8/10\n",
      "782/782 - 20s - loss: 0.3468 - accuracy: 0.8817 - 20s/epoch - 25ms/step\n",
      "Epoch 9/10\n",
      "782/782 - 19s - loss: 0.2911 - accuracy: 0.9008 - 19s/epoch - 25ms/step\n",
      "Epoch 10/10\n",
      "782/782 - 19s - loss: 0.2432 - accuracy: 0.9186 - 19s/epoch - 25ms/step\n",
      "157/157 - 1s - loss: 1.0085 - accuracy: 0.7079 - 1s/epoch - 10ms/step\n"
     ]
    },
    {
     "data": {
      "text/plain": [
       "[1.0084960460662842, 0.7078999876976013]"
      ]
     },
     "execution_count": 35,
     "metadata": {},
     "output_type": "execute_result"
    }
   ],
   "source": [
    "model.fit(x_train,y_train,batch_size=64, epochs= 10, verbose= 2)\n",
    "model.evaluate(x_test, y_test,batch_size=64, verbose=2)"
   ]
  }
 ],
 "metadata": {
  "kernelspec": {
   "display_name": "Python 3",
   "language": "python",
   "name": "python3"
  },
  "language_info": {
   "codemirror_mode": {
    "name": "ipython",
    "version": 3
   },
   "file_extension": ".py",
   "mimetype": "text/x-python",
   "name": "python",
   "nbconvert_exporter": "python",
   "pygments_lexer": "ipython3",
   "version": "3.11.5"
  }
 },
 "nbformat": 4,
 "nbformat_minor": 2
}
