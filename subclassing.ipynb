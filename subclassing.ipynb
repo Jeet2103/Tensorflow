{
 "cells": [
  {
   "cell_type": "code",
   "execution_count": 12,
   "metadata": {},
   "outputs": [],
   "source": [
    "import os\n",
    "os.environ['TF_CPP_MIN_LOG_LEVEL'] = '2'\n",
    "import tensorflow as tf\n",
    "from tensorflow import keras\n",
    "from tensorflow.keras import layers\n",
    "from tensorflow.keras.datasets import mnist"
   ]
  },
  {
   "cell_type": "code",
   "execution_count": 14,
   "metadata": {},
   "outputs": [],
   "source": [
    "(x_train, y_train),(x_test,y_test) = mnist.load_data()\n",
    "x_train = x_train.reshape(-1, 28, 28, 1).astype(\"float32\") / 255.0\n",
    "x_test = x_test.reshape(-1, 28, 28, 1).astype(\"float32\") / 255.0"
   ]
  },
  {
   "cell_type": "code",
   "execution_count": 3,
   "metadata": {},
   "outputs": [],
   "source": [
    "# CNN -> BatchNorm -> Relu (Comon structure)\n",
    "class CNNBlock(layers.Layer):\n",
    "    def __init__(self, out_channels, kernel_size =3):\n",
    "        super(CNNBlock, self).__init__()\n",
    "        self.conv = layers.Conv2D(out_channels, kernel_size, padding ='same')\n",
    "        self.bn = layers.BatchNormalization()\n",
    "\n",
    "    def call(self, input_tensor, training = False):\n",
    "        x = self.conv(input_tensor)\n",
    "        x= self.bn(x,training= training)\n",
    "        x= tf.nn.relu(x)\n",
    "        return x"
   ]
  },
  {
   "cell_type": "code",
   "execution_count": 5,
   "metadata": {},
   "outputs": [],
   "source": [
    "class ResBlock(layers.Layer):\n",
    "    def __init__(self,channels):\n",
    "        super(ResBlock,self).__init__ ()\n",
    "        self.cnn1= CNNBlock(channels[0])\n",
    "        self.cnn2= CNNBlock(channels[1])\n",
    "        self.cnn3= CNNBlock(channels[2])\n",
    "        self.pooling = layers.MaxPooling2D()\n",
    "        self.identity_mapping = layers.Conv2D(channels[1],3,padding ='same')\n",
    "\n",
    "    def call(self, input_tensor, training = False):\n",
    "        x= self.cnn1(input_tensor,training= training)\n",
    "        x= self.cnn2(x, training = training)\n",
    "        x= self.cnn3(\n",
    "            x + self.identity_mapping(input_tensor), training = training\n",
    "        )\n",
    "        return self.pooling(x)\n",
    "    \n",
    "\n",
    "class Resnet_Like(keras.Model):\n",
    "    def __init__(self,num_classes = 10):\n",
    "        super(Resnet_Like,self).__init__()\n",
    "        self.block1 = ResBlock([32,32,64])\n",
    "        self.block2 = ResBlock([128,128,256])\n",
    "        self.block3 = ResBlock([128,256,512])\n",
    "        self.pool = layers.GlobalAveragePooling2D()\n",
    "        self.classifier = layers.Dense(num_classes)\n",
    "    def call(self, input_tensor, training = False):\n",
    "        x = self.block1(input_tensor,training = training)\n",
    "        x = self.block2(x,training = training)\n",
    "        x = self.block3(x,training = training)\n",
    "        x= self.pool(x)\n",
    "        return self.classifier(x)\n",
    "\n",
    "    \n"
   ]
  },
  {
   "cell_type": "code",
   "execution_count": 6,
   "metadata": {},
   "outputs": [],
   "source": [
    "# model = keras.Sequential(\n",
    "#     [\n",
    "#         CNNBlock(32),\n",
    "#         CNNBlock(64),\n",
    "#         CNNBlock(128),\n",
    "#         layers.Flatten(),\n",
    "#         layers.Dense(20), \n",
    "#     ]\n",
    "# )\n",
    "model = Resnet_Like(num_classes=10)"
   ]
  },
  {
   "cell_type": "code",
   "execution_count": 7,
   "metadata": {},
   "outputs": [],
   "source": [
    "model.compile(\n",
    "    optimizer = keras.optimizers.Adam(),\n",
    "    loss = keras.losses.SparseCategoricalCrossentropy(from_logits = True),\n",
    "    metrics =[\"accuracy\"],\n",
    "    run_eagerly=True,\n",
    ")\n",
    "# print(model.summary())"
   ]
  },
  {
   "cell_type": "code",
   "execution_count": 9,
   "metadata": {},
   "outputs": [
    {
     "name": "stdout",
     "output_type": "stream",
     "text": [
      "Epoch 1/5\n",
      "938/938 - 76s - loss: 0.0395 - accuracy: 0.9879 - 76s/epoch - 81ms/step\n",
      "Epoch 2/5\n",
      "938/938 - 76s - loss: 0.0304 - accuracy: 0.9905 - 76s/epoch - 81ms/step\n",
      "Epoch 3/5\n",
      "938/938 - 76s - loss: 0.0251 - accuracy: 0.9920 - 76s/epoch - 81ms/step\n",
      "Epoch 4/5\n",
      "938/938 - 90s - loss: 0.0232 - accuracy: 0.9928 - 90s/epoch - 96ms/step\n",
      "Epoch 5/5\n",
      "938/938 - 101s - loss: 0.0211 - accuracy: 0.9929 - 101s/epoch - 108ms/step\n",
      "Model: \"resnet__like\"\n",
      "_________________________________________________________________\n",
      " Layer (type)                Output Shape              Param #   \n",
      "=================================================================\n",
      " res_block (ResBlock)        multiple                  28896     \n",
      "                                                                 \n",
      " res_block_1 (ResBlock)      multiple                  592512    \n",
      "                                                                 \n",
      " res_block_2 (ResBlock)      multiple                  2364032   \n",
      "                                                                 \n",
      " global_average_pooling2d (G  multiple                 0         \n",
      " lobalAveragePooling2D)                                          \n",
      "                                                                 \n",
      " dense (Dense)               multiple                  5130      \n",
      "                                                                 \n",
      "=================================================================\n",
      "Total params: 2,990,570\n",
      "Trainable params: 2,987,498\n",
      "Non-trainable params: 3,072\n",
      "_________________________________________________________________\n",
      "None\n",
      "157/157 - 7s - loss: 0.0528 - accuracy: 0.9841 - 7s/epoch - 46ms/step\n"
     ]
    },
    {
     "data": {
      "text/plain": [
       "[0.05276459455490112, 0.9840999841690063]"
      ]
     },
     "execution_count": 9,
     "metadata": {},
     "output_type": "execute_result"
    }
   ],
   "source": [
    "model.fit(x_train, y_train, batch_size=64, epochs=5, verbose=2)\n",
    "print(model.summary())\n",
    "model.evaluate(x_test,y_test,batch_size=64, verbose=2)"
   ]
  }
 ],
 "metadata": {
  "kernelspec": {
   "display_name": "Python 3",
   "language": "python",
   "name": "python3"
  },
  "language_info": {
   "codemirror_mode": {
    "name": "ipython",
    "version": 3
   },
   "file_extension": ".py",
   "mimetype": "text/x-python",
   "name": "python",
   "nbconvert_exporter": "python",
   "pygments_lexer": "ipython3",
   "version": "3.9.18"
  }
 },
 "nbformat": 4,
 "nbformat_minor": 2
}
