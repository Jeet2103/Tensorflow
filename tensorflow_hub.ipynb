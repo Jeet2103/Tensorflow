{
 "cells": [
  {
   "cell_type": "code",
   "execution_count": 20,
   "metadata": {},
   "outputs": [],
   "source": [
    "import os\n",
    "os.environ[\"TP_CPP_MIN_LOG_LEVEL\"] = '2'\n",
    "import tensorflow as tf\n",
    "from tensorflow import keras\n",
    "from tensorflow.keras import layers\n",
    "from tensorflow.keras.datasets import mnist"
   ]
  },
  {
   "cell_type": "code",
   "execution_count": 27,
   "metadata": {},
   "outputs": [],
   "source": [
    "(x_train,y_train),(x_test, y_test)  = mnist.load_data()\n",
    "x_train = x_train.reshape(-1,28,28,1).astype(\"float32\")/255.0\n",
    "x_test =x_test.reshape(-1,28,28,1).astype(\"float32\")/255.0"
   ]
  },
  {
   "cell_type": "code",
   "execution_count": 42,
   "metadata": {},
   "outputs": [],
   "source": [
    "\n",
    "# model = keras.Sequential(\n",
    "#     [\n",
    "#         keras.Input(shape=(28, 28, 1)),  # Input layer expects images of shape 28x28x1\n",
    "#         layers.Conv2D(32, 3, padding='valid', activation='relu'),  # Convolutional layer with 32 filters and 3x3 kernel size\n",
    "#         layers.MaxPooling2D(pool_size=(2, 2)),  # Max pooling layer with 2x2 pool size\n",
    "#         layers.Conv2D(64, 3, activation='relu'),  # Convolutional layer with 64 filters and 3x3 kernel size\n",
    "#         layers.MaxPooling2D(),  # Max pooling layer with default 2x2 pool size\n",
    "#         layers.Conv2D(128, 3, activation='relu'),  # Convolutional layer with 128 filters and 3x3 kernel size\n",
    "#         layers.Flatten(),  # Flatten layer to convert 2D output to 1D\n",
    "#         layers.Dense(64, activation='relu'),  # Dense layer with 64 units and ReLU activation\n",
    "#         layers.Dense(10),  # Output layer with 10 units for 10 classes (digits 0-9)\n",
    "#     ]\n",
    "# )\n",
    "model = keras.models.load_model('Seq_model1/')\n",
    "\n",
    "model.trainable = False\n",
    "for layer in model.layers:\n",
    "    assert layer.trainable == False\n",
    "    layers.trainable = False\n",
    "\n",
    "base_input = model.layers[0].input\n",
    "base_output = model.layers[-2].output\n",
    "new_output = layers.Dense(10)(base_output)\n",
    "new_model = keras.Model(inputs = base_input, outputs = new_output)\n",
    "model = new_model"
   ]
  },
  {
   "cell_type": "code",
   "execution_count": 43,
   "metadata": {},
   "outputs": [],
   "source": [
    "model.compile(\n",
    "    optimizer= keras.optimizers.Adam(),\n",
    "    loss = keras.losses.SparseCategoricalCrossentropy(from_logits= True),\n",
    "    metrics=[\"accuracy\"]\n",
    ")"
   ]
  },
  {
   "cell_type": "code",
   "execution_count": 44,
   "metadata": {},
   "outputs": [
    {
     "name": "stdout",
     "output_type": "stream",
     "text": [
      "Epoch 1/5\n",
      "938/938 - 5s - loss: 0.3335 - accuracy: 0.9207 - 5s/epoch - 6ms/step\n",
      "Epoch 2/5\n",
      "938/938 - 5s - loss: 0.0219 - accuracy: 0.9948 - 5s/epoch - 6ms/step\n",
      "Epoch 3/5\n",
      "938/938 - 5s - loss: 0.0145 - accuracy: 0.9964 - 5s/epoch - 5ms/step\n",
      "Epoch 4/5\n",
      "938/938 - 5s - loss: 0.0115 - accuracy: 0.9971 - 5s/epoch - 5ms/step\n",
      "Epoch 5/5\n",
      "938/938 - 5s - loss: 0.0099 - accuracy: 0.9973 - 5s/epoch - 5ms/step\n",
      "Model: \"model_4\"\n",
      "_________________________________________________________________\n",
      " Layer (type)                Output Shape              Param #   \n",
      "=================================================================\n",
      " input_5 (InputLayer)        [(None, 28, 28, 1)]       0         \n",
      "                                                                 \n",
      " conv2d_12 (Conv2D)          (None, 26, 26, 32)        320       \n",
      "                                                                 \n",
      " max_pooling2d_8 (MaxPooling  (None, 13, 13, 32)       0         \n",
      " 2D)                                                             \n",
      "                                                                 \n",
      " conv2d_13 (Conv2D)          (None, 11, 11, 64)        18496     \n",
      "                                                                 \n",
      " max_pooling2d_9 (MaxPooling  (None, 5, 5, 64)         0         \n",
      " 2D)                                                             \n",
      "                                                                 \n",
      " conv2d_14 (Conv2D)          (None, 3, 3, 128)         73856     \n",
      "                                                                 \n",
      " flatten_4 (Flatten)         (None, 1152)              0         \n",
      "                                                                 \n",
      " dense_8 (Dense)             (None, 64)                73792     \n",
      "                                                                 \n",
      " dense_13 (Dense)            (None, 10)                650       \n",
      "                                                                 \n",
      "=================================================================\n",
      "Total params: 167,114\n",
      "Trainable params: 650\n",
      "Non-trainable params: 166,464\n",
      "_________________________________________________________________\n",
      "None\n",
      "157/157 - 1s - loss: 0.0227 - accuracy: 0.9919 - 897ms/epoch - 6ms/step\n"
     ]
    },
    {
     "data": {
      "text/plain": [
       "[0.022736715152859688, 0.9919000267982483]"
      ]
     },
     "execution_count": 44,
     "metadata": {},
     "output_type": "execute_result"
    }
   ],
   "source": [
    "model.fit(x_train, y_train, batch_size= 64, epochs= 5, verbose = 2)\n",
    "print(model.summary())\n",
    "model.evaluate(x_test, y_test,batch_size=64, verbose=2)"
   ]
  },
  {
   "cell_type": "code",
   "execution_count": 32,
   "metadata": {},
   "outputs": [
    {
     "name": "stderr",
     "output_type": "stream",
     "text": [
      "WARNING:absl:Found untraced functions such as _jit_compiled_convolution_op, _jit_compiled_convolution_op, _jit_compiled_convolution_op while saving (showing 3 of 3). These functions will not be directly callable after loading.\n"
     ]
    },
    {
     "name": "stdout",
     "output_type": "stream",
     "text": [
      "INFO:tensorflow:Assets written to: Seq_model1/assets\n"
     ]
    },
    {
     "name": "stderr",
     "output_type": "stream",
     "text": [
      "INFO:tensorflow:Assets written to: Seq_model1/assets\n"
     ]
    }
   ],
   "source": [
    "# model.save(\"Seq_model1/\")"
   ]
  }
 ],
 "metadata": {
  "kernelspec": {
   "display_name": "tf_3.9",
   "language": "python",
   "name": "python3"
  },
  "language_info": {
   "codemirror_mode": {
    "name": "ipython",
    "version": 3
   },
   "file_extension": ".py",
   "mimetype": "text/x-python",
   "name": "python",
   "nbconvert_exporter": "python",
   "pygments_lexer": "ipython3",
   "version": "3.9.18"
  }
 },
 "nbformat": 4,
 "nbformat_minor": 2
}
