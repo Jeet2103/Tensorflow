{
 "cells": [
  {
   "cell_type": "code",
   "execution_count": 1,
   "metadata": {},
   "outputs": [
    {
     "name": "stdout",
     "output_type": "stream",
     "text": [
      "WARNING:tensorflow:From C:\\Users\\hp\\AppData\\Roaming\\Python\\Python311\\site-packages\\keras\\src\\losses.py:2976: The name tf.losses.sparse_softmax_cross_entropy is deprecated. Please use tf.compat.v1.losses.sparse_softmax_cross_entropy instead.\n",
      "\n"
     ]
    }
   ],
   "source": [
    "import os\n",
    "os.environ['TF_CPP_MIN_LOG_LEVEL']= '2'\n",
    "import tensorflow as tf"
   ]
  },
  {
   "cell_type": "code",
   "execution_count": 15,
   "metadata": {},
   "outputs": [
    {
     "name": "stdout",
     "output_type": "stream",
     "text": [
      "tf.Tensor([[4.]], shape=(1, 1), dtype=float32)\n",
      "*************************************************************\n",
      "tf.Tensor(\n",
      "[[1 2 3]\n",
      " [2 4 5]], shape=(2, 3), dtype=int32)\n",
      "*************************************************************\n",
      "tf.Tensor(\n",
      "[[1. 1. 1.]\n",
      " [1. 1. 1.]\n",
      " [1. 1. 1.]], shape=(3, 3), dtype=float32)\n",
      "*************************************************************\n",
      "tf.Tensor(\n",
      "[[0. 0. 0.]\n",
      " [0. 0. 0.]], shape=(2, 3), dtype=float32)\n",
      "*************************************************************\n",
      "tf.Tensor(\n",
      "[[1. 0. 0. 0.]\n",
      " [0. 1. 0. 0.]\n",
      " [0. 0. 1. 0.]\n",
      " [0. 0. 0. 1.]], shape=(4, 4), dtype=float32)\n",
      "*************************************************************\n",
      "tf.Tensor(\n",
      "[[4.3013945 3.0152788 4.4953537]\n",
      " [3.836636  4.6559086 4.9722395]], shape=(2, 3), dtype=float32)\n",
      "*************************************************************\n",
      "tf.Tensor(\n",
      "[[-0.8520847  -0.0179329   0.10579027  0.84036297]\n",
      " [-0.90332276  0.55338484 -0.6828129   0.22431162]\n",
      " [ 0.19476224 -0.46277896  0.56681156  0.70972306]], shape=(3, 4), dtype=float32)\n",
      "*************************************************************\n",
      "tf.Tensor([1 3 5 7 9], shape=(5,), dtype=int32)\n",
      "*************************************************************\n",
      "tf.Tensor(\n",
      "[[1. 2. 3.]\n",
      " [2. 4. 5.]], shape=(2, 3), dtype=float64)\n"
     ]
    }
   ],
   "source": [
    "a1=tf.constant(4.0,shape=(1,1), dtype=tf.float32)\n",
    "a2= tf.constant([[1,2,3],[2,4,5]])\n",
    "a3= tf.ones((3,3))\n",
    "a4= tf.zeros((2,3))\n",
    "a5=tf.eye(4)\n",
    "a6=tf.random.uniform((2,3),minval=2, maxval=5)\n",
    "a7= tf.random.normal((3,4),mean=0, stddev=1)\n",
    "a8=tf.range(start=1, limit=11, delta=2)\n",
    "a9=tf.cast(a2,dtype=tf.float64)\n",
    "print(a1)\n",
    "print(\"*************************************************************\")\n",
    "print(a2)\n",
    "print(\"*************************************************************\")\n",
    "print(a3)\n",
    "print(\"*************************************************************\")\n",
    "print(a4)\n",
    "print(\"*************************************************************\")\n",
    "print(a5)\n",
    "print(\"*************************************************************\")\n",
    "print(a6)\n",
    "print(\"*************************************************************\")\n",
    "print(a7)\n",
    "print(\"*************************************************************\")\n",
    "print(a8)\n",
    "print(\"*************************************************************\")\n",
    "print(a9)"
   ]
  },
  {
   "cell_type": "code",
   "execution_count": 11,
   "metadata": {},
   "outputs": [
    {
     "name": "stdout",
     "output_type": "stream",
     "text": [
      "tf.Tensor([10 10 10], shape=(3,), dtype=int32)\n",
      "tf.Tensor([10 10 10], shape=(3,), dtype=int32)\n",
      "tf.Tensor(46, shape=(), dtype=int32)\n",
      "tf.Tensor(46, shape=(), dtype=int32)\n",
      "tf.Tensor([1 4 9], shape=(3,), dtype=int32)\n",
      "tf.Tensor(\n",
      "[[-1.7430279   0.50285316  0.62913644 -0.07839489]\n",
      " [-1.2605325   0.3994665   0.93712306  1.7874922 ]], shape=(2, 4), dtype=float32)\n",
      "tf.Tensor(\n",
      "[[-1.7430279   0.50285316  0.62913644 -0.07839489]\n",
      " [-1.2605325   0.3994665   0.93712306  1.7874922 ]], shape=(2, 4), dtype=float32)\n"
     ]
    }
   ],
   "source": [
    "num1=tf.constant([1,2,3])\n",
    "num2=tf.constant([9,8,7])\n",
    "Add=tf.add(num1,num2)\n",
    "Add2= num1+num2\n",
    "print(Add2)\n",
    "print(Add)\n",
    "#Same for divide, multiply, subtract.\n",
    "b1= tf.tensordot(num1,num2,axes=1)\n",
    "b2= tf.reduce_sum(num1*num2,axis=0)\n",
    "print(b1)\n",
    "print(b2)\n",
    "to_the_power= num1**2\n",
    "print(to_the_power)\n",
    "n3=tf.random.normal((2,3))\n",
    "n4=tf.random.normal((3,4))\n",
    "b3=tf.matmul(n3,n4)\n",
    "b4= n3@n4\n",
    "print(b3)\n",
    "print(b4)"
   ]
  },
  {
   "cell_type": "code",
   "execution_count": 16,
   "metadata": {},
   "outputs": [
    {
     "name": "stdout",
     "output_type": "stream",
     "text": [
      "tf.Tensor(\n",
      "[[0 1 2]\n",
      " [3 4 5]\n",
      " [6 7 8]], shape=(3, 3), dtype=int32)\n",
      "tf.Tensor(\n",
      "[[0 3 6]\n",
      " [1 4 7]\n",
      " [2 5 8]], shape=(3, 3), dtype=int32)\n"
     ]
    }
   ],
   "source": [
    "n5= tf.range(9)\n",
    "rs=tf.reshape(n5,(3,3))\n",
    "print(rs)\n",
    "tp=tf.transpose(rs,perm=[1,0])\n",
    "print(tp)"
   ]
  },
  {
   "cell_type": "code",
   "execution_count": null,
   "metadata": {},
   "outputs": [],
   "source": []
  }
 ],
 "metadata": {
  "kernelspec": {
   "display_name": "Python 3",
   "language": "python",
   "name": "python3"
  },
  "language_info": {
   "codemirror_mode": {
    "name": "ipython",
    "version": 3
   },
   "file_extension": ".py",
   "mimetype": "text/x-python",
   "name": "python",
   "nbconvert_exporter": "python",
   "pygments_lexer": "ipython3",
   "version": "3.11.5"
  }
 },
 "nbformat": 4,
 "nbformat_minor": 2
}
