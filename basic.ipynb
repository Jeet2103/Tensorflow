{
 "cells": [
  {
   "cell_type": "code",
   "execution_count": 4,
   "metadata": {},
   "outputs": [],
   "source": [
    "import os\n",
    "os.environ['TF_CPP_MIN_LOG_LEVEL']= '2'\n",
    "import tensorflow as tf"
   ]
  },
  {
   "cell_type": "code",
   "execution_count": 15,
   "metadata": {},
   "outputs": [
    {
     "name": "stdout",
     "output_type": "stream",
     "text": [
      "tf.Tensor([[4.]], shape=(1, 1), dtype=float32)\n",
      "*************************************************************\n",
      "tf.Tensor(\n",
      "[[1 2 3]\n",
      " [2 4 5]], shape=(2, 3), dtype=int32)\n",
      "*************************************************************\n",
      "tf.Tensor(\n",
      "[[1. 1. 1.]\n",
      " [1. 1. 1.]\n",
      " [1. 1. 1.]], shape=(3, 3), dtype=float32)\n",
      "*************************************************************\n",
      "tf.Tensor(\n",
      "[[0. 0. 0.]\n",
      " [0. 0. 0.]], shape=(2, 3), dtype=float32)\n",
      "*************************************************************\n",
      "tf.Tensor(\n",
      "[[1. 0. 0. 0.]\n",
      " [0. 1. 0. 0.]\n",
      " [0. 0. 1. 0.]\n",
      " [0. 0. 0. 1.]], shape=(4, 4), dtype=float32)\n",
      "*************************************************************\n",
      "tf.Tensor(\n",
      "[[4.3013945 3.0152788 4.4953537]\n",
      " [3.836636  4.6559086 4.9722395]], shape=(2, 3), dtype=float32)\n",
      "*************************************************************\n",
      "tf.Tensor(\n",
      "[[-0.8520847  -0.0179329   0.10579027  0.84036297]\n",
      " [-0.90332276  0.55338484 -0.6828129   0.22431162]\n",
      " [ 0.19476224 -0.46277896  0.56681156  0.70972306]], shape=(3, 4), dtype=float32)\n",
      "*************************************************************\n",
      "tf.Tensor([1 3 5 7 9], shape=(5,), dtype=int32)\n",
      "*************************************************************\n",
      "tf.Tensor(\n",
      "[[1. 2. 3.]\n",
      " [2. 4. 5.]], shape=(2, 3), dtype=float64)\n"
     ]
    }
   ],
   "source": [
    "a1=tf.constant(4.0,shape=(1,1), dtype=tf.float32)\n",
    "a2= tf.constant([[1,2,3],[2,4,5]])\n",
    "a3= tf.ones((3,3))\n",
    "a4= tf.zeros((2,3))\n",
    "a5=tf.eye(4)\n",
    "a6=tf.random.uniform((2,3),minval=2, maxval=5)\n",
    "a7= tf.random.normal((3,4),mean=0, stddev=1)\n",
    "a8=tf.range(start=1, limit=11, delta=2)\n",
    "a9=tf.cast(a2,dtype=tf.float64)\n",
    "print(a1)\n",
    "print(\"*************************************************************\")\n",
    "print(a2)\n",
    "print(\"*************************************************************\")\n",
    "print(a3)\n",
    "print(\"*************************************************************\")\n",
    "print(a4)\n",
    "print(\"*************************************************************\")\n",
    "print(a5)\n",
    "print(\"*************************************************************\")\n",
    "print(a6)\n",
    "print(\"*************************************************************\")\n",
    "print(a7)\n",
    "print(\"*************************************************************\")\n",
    "print(a8)\n",
    "print(\"*************************************************************\")\n",
    "print(a9)"
   ]
  },
  {
   "cell_type": "code",
   "execution_count": null,
   "metadata": {},
   "outputs": [],
   "source": []
  }
 ],
 "metadata": {
  "kernelspec": {
   "display_name": "Python 3",
   "language": "python",
   "name": "python3"
  },
  "language_info": {
   "codemirror_mode": {
    "name": "ipython",
    "version": 3
   },
   "file_extension": ".py",
   "mimetype": "text/x-python",
   "name": "python",
   "nbconvert_exporter": "python",
   "pygments_lexer": "ipython3",
   "version": "3.11.5"
  }
 },
 "nbformat": 4,
 "nbformat_minor": 2
}
