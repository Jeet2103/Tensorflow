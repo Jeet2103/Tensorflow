{
 "cells": [
  {
   "cell_type": "code",
   "execution_count": 1,
   "metadata": {},
   "outputs": [
    {
     "name": "stdout",
     "output_type": "stream",
     "text": [
      "WARNING:tensorflow:From C:\\Users\\hp\\AppData\\Roaming\\Python\\Python311\\site-packages\\keras\\src\\losses.py:2976: The name tf.losses.sparse_softmax_cross_entropy is deprecated. Please use tf.compat.v1.losses.sparse_softmax_cross_entropy instead.\n",
      "\n"
     ]
    }
   ],
   "source": [
    "import sys\n",
    "import os\n",
    "os.environ['TF_CPP_MIN_LOG_LEVEL'] = '2'\n",
    "import tensorflow as tf\n",
    "from tensorflow import keras\n",
    "from tensorflow.keras import layers\n",
    "from tensorflow.keras.datasets import mnist"
   ]
  },
  {
   "cell_type": "code",
   "execution_count": 2,
   "metadata": {},
   "outputs": [],
   "source": [
    "(x_train, y_train), (x_test, y_test)= mnist.load_data()\n",
    "# print(x_train.shape)\n",
    "# print(y_train.shape)\n",
    "x_train= x_train.astype('float32')/255.0\n",
    "x_test= x_test.astype('float32')/255.0"
   ]
  },
  {
   "cell_type": "code",
   "execution_count": 14,
   "metadata": {},
   "outputs": [
    {
     "name": "stdout",
     "output_type": "stream",
     "text": [
      "Model: \"sequential_4\"\n",
      "_________________________________________________________________\n",
      " Layer (type)                Output Shape              Param #   \n",
      "=================================================================\n",
      " bidirectional (Bidirection  (None, None, 512)         583680    \n",
      " al)                                                             \n",
      "                                                                 \n",
      " bidirectional_1 (Bidirecti  (None, 512)               1574912   \n",
      " onal)                                                           \n",
      "                                                                 \n",
      " dense_4 (Dense)             (None, 10)                5130      \n",
      "                                                                 \n",
      "=================================================================\n",
      "Total params: 2163722 (8.25 MB)\n",
      "Trainable params: 2163722 (8.25 MB)\n",
      "Non-trainable params: 0 (0.00 Byte)\n",
      "_________________________________________________________________\n",
      "None\n"
     ]
    }
   ],
   "source": [
    "# model = keras.Sequential()\n",
    "# model.add(keras.Input(shape=(None,28)))\n",
    "# model.add(\n",
    "#     layers.SimpleRNN(512, return_sequences= True, activation= 'relu')\n",
    "# )\n",
    "# model.add(layers.SimpleRNN(512, activation='relu'))\n",
    "# model.add(layers.Dense(10))\n",
    "# print(model.summary())\n",
    "\n",
    "# model = keras.Sequential()\n",
    "# model.add(keras.Input(shape=(None,28)))\n",
    "# model.add(\n",
    "#     layers.GRU(512, return_sequences= True, activation= 'tanh')\n",
    "# )\n",
    "# model.add(layers.GRU(512, activation='tanh'))\n",
    "# model.add(layers.Dense(10))\n",
    "# print(model.summary())\n",
    "\n",
    "# model = keras.Sequential()\n",
    "# model.add(keras.Input(shape=(None,28)))\n",
    "# model.add(\n",
    "#     layers.LSTM(256, return_sequences= True, activation= 'tanh')\n",
    "# )\n",
    "# model.add(layers.LSTM(256, activation='tanh'))\n",
    "# model.add(layers.Dense(10))\n",
    "# print(model.summary())\n",
    "\n",
    "model = keras.Sequential()\n",
    "model.add(keras.Input(shape=(None,28)))\n",
    "model.add(\n",
    "    layers.Bidirectional(\n",
    "    layers.LSTM(256, return_sequences= True, activation= 'tanh')\n",
    "    )\n",
    ")\n",
    "model.add(\n",
    "    layers.Bidirectional(\n",
    "    layers.LSTM(256, activation='tanh'\n",
    "                )))\n",
    "model.add(layers.Dense(10))\n",
    "print(model.summary())"
   ]
  },
  {
   "cell_type": "code",
   "execution_count": 11,
   "metadata": {},
   "outputs": [],
   "source": [
    "model.compile(\n",
    "    loss = keras.losses.SparseCategoricalCrossentropy(from_logits= True),\n",
    "    optimizer = keras.optimizers.Adam(learning_rate = 0.001),\n",
    "    metrics = [\"accuracy\"],\n",
    ")"
   ]
  },
  {
   "cell_type": "code",
   "execution_count": 13,
   "metadata": {},
   "outputs": [
    {
     "name": "stdout",
     "output_type": "stream",
     "text": [
      "Epoch 1/2\n",
      "938/938 - 84s - loss: 0.0925 - accuracy: 0.9713 - 84s/epoch - 89ms/step\n",
      "Epoch 2/2\n",
      "938/938 - 53s - loss: 0.0602 - accuracy: 0.9808 - 53s/epoch - 57ms/step\n",
      "157/157 - 6s - loss: 0.0669 - accuracy: 0.9783 - 6s/epoch - 36ms/step\n"
     ]
    },
    {
     "data": {
      "text/plain": [
       "[0.06685241311788559, 0.9782999753952026]"
      ]
     },
     "execution_count": 13,
     "metadata": {},
     "output_type": "execute_result"
    }
   ],
   "source": [
    "model.fit(x_train, y_train, batch_size=64, epochs=2, verbose=2)\n",
    "model.evaluate(x_test, y_test, batch_size=64, verbose=2)"
   ]
  }
 ],
 "metadata": {
  "kernelspec": {
   "display_name": "Python 3",
   "language": "python",
   "name": "python3"
  },
  "language_info": {
   "codemirror_mode": {
    "name": "ipython",
    "version": 3
   },
   "file_extension": ".py",
   "mimetype": "text/x-python",
   "name": "python",
   "nbconvert_exporter": "python",
   "pygments_lexer": "ipython3",
   "version": "3.11.5"
  }
 },
 "nbformat": 4,
 "nbformat_minor": 2
}
