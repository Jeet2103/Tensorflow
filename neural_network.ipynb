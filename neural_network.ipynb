{
 "cells": [
  {
   "cell_type": "code",
   "execution_count": 10,
   "metadata": {},
   "outputs": [],
   "source": [
    "import sys\n",
    "import os\n",
    "os.environ['TF_CPP_MIN_LOG_LEVEL'] = '2'\n",
    "import tensorflow as tf\n",
    "from tensorflow import keras\n",
    "from tensorflow.keras import layers\n",
    "from tensorflow.keras.datasets import mnist\n",
    "\n",
    "# physical_devices = tf.config.list_physical_devices('GPU')\n",
    "# tf.config.experimental.set_memory_growth(physical_devices[1],True)"
   ]
  },
  {
   "cell_type": "code",
   "execution_count": 11,
   "metadata": {},
   "outputs": [],
   "source": [
    "(x_train, y_train), (x_test, y_test)= mnist.load_data()\n",
    "# print(x_train.shape)\n",
    "# print(y_train.shape)\n",
    "x_train= x_train.reshape(-1,28*28).astype('float32')/255.0\n",
    "x_test= x_test.reshape(-1,28*28).astype('float32')/255.0\n"
   ]
  },
  {
   "cell_type": "code",
   "execution_count": 33,
   "metadata": {},
   "outputs": [
    {
     "name": "stdout",
     "output_type": "stream",
     "text": [
      "1875/1875 [==============================] - 2s 951us/step\n",
      "(60000, 512)\n",
      "(60000, 256)\n",
      "(60000, 10)\n"
     ]
    },
    {
     "ename": "SystemExit",
     "evalue": "",
     "output_type": "error",
     "traceback": [
      "An exception has occurred, use %tb to see the full traceback.\n",
      "\u001b[1;31mSystemExit\u001b[0m\n"
     ]
    },
    {
     "name": "stderr",
     "output_type": "stream",
     "text": [
      "C:\\Users\\hp\\AppData\\Roaming\\Python\\Python311\\site-packages\\IPython\\core\\interactiveshell.py:3561: UserWarning: To exit: use 'exit', 'quit', or Ctrl-D.\n",
      "  warn(\"To exit: use 'exit', 'quit', or Ctrl-D.\", stacklevel=1)\n"
     ]
    }
   ],
   "source": [
    "\n",
    "# Sequential API*********************************\n",
    "# model = keras.Sequential(\n",
    "#     [\n",
    "#         keras.Input(shape=(28*28)),\n",
    "#         layers.Dense(512,activation = 'relu'),\n",
    "#         layers.Dense(256, activation = 'relu'),\n",
    "#         layers.Dense(10),\n",
    "#     ]\n",
    "# )\n",
    "\n",
    "model = keras.Sequential()\n",
    "model.add(keras.Input(shape=(28*28)))\n",
    "model.add(layers.Dense(512,activation = 'relu'))\n",
    "model.add(layers.Dense(256, activation = 'relu',name='my_layer'))\n",
    "model.add(layers.Dense(10))\n",
    "# model = keras.Model(inputs= model.inputs,\n",
    "                    # outputs= [model.layers[0].output]).\n",
    "# model = keras.Model(inputs= model.inputs,\n",
    "#                     outputs= [model.get_layer('my_layer').output])\n",
    "model = keras.Model(inputs= model.inputs,\n",
    "                    outputs= [layer.output for layer in model.layers])\n",
    "\n",
    "features= model.predict(x_train)\n",
    "for feature in features:\n",
    "    print(feature.shape)\n",
    "# print(feature.shape)\n",
    "# print(model.summary())\n",
    "import sys\n",
    "sys.exit()\n",
    "\n",
    "# Functional Api**********************************\n",
    "inputs = keras.Input(shape=(784))\n",
    "x= layers.Dense(512, activation='relu',name= 'first_layers')(inputs)\n",
    "x= layers.Dense(256,activation = 'relu', name= 'second_layers')(x)\n",
    "outputs= layers.Dense(10,activation = 'softmax')(x)\n",
    "model = keras.Model(inputs=inputs, outputs=outputs)\n",
    "print(model.summary())\n",
    "\n",
    "model.compile(\n",
    "    loss = keras.losses.SparseCategoricalCrossentropy(from_logits= True),\n",
    "    optimizer = keras.optimizers.Adam(learning_rate = 0.001),\n",
    "    metrics = [\"accuracy\"],\n",
    ")"
   ]
  },
  {
   "cell_type": "code",
   "execution_count": 26,
   "metadata": {},
   "outputs": [
    {
     "name": "stdout",
     "output_type": "stream",
     "text": [
      "Epoch 1/6\n"
     ]
    },
    {
     "name": "stderr",
     "output_type": "stream",
     "text": [
      "C:\\Users\\hp\\AppData\\Roaming\\Python\\Python311\\site-packages\\keras\\src\\backend.py:5727: UserWarning: \"`sparse_categorical_crossentropy` received `from_logits=True`, but the `output` argument was produced by a Softmax activation and thus does not represent logits. Was this intended?\n",
      "  output, from_logits = _get_logits(\n"
     ]
    },
    {
     "name": "stdout",
     "output_type": "stream",
     "text": [
      "1875/1875 - 4s - loss: 0.1859 - accuracy: 0.9435 - 4s/epoch - 2ms/step\n",
      "Epoch 2/6\n",
      "1875/1875 - 4s - loss: 0.0803 - accuracy: 0.9755 - 4s/epoch - 2ms/step\n",
      "Epoch 3/6\n",
      "1875/1875 - 4s - loss: 0.0547 - accuracy: 0.9822 - 4s/epoch - 2ms/step\n",
      "Epoch 4/6\n",
      "1875/1875 - 4s - loss: 0.0409 - accuracy: 0.9865 - 4s/epoch - 2ms/step\n",
      "Epoch 5/6\n",
      "1875/1875 - 4s - loss: 0.0331 - accuracy: 0.9897 - 4s/epoch - 2ms/step\n",
      "Epoch 6/6\n",
      "1875/1875 - 4s - loss: 0.0264 - accuracy: 0.9915 - 4s/epoch - 2ms/step\n",
      "313/313 - 0s - loss: 0.0853 - accuracy: 0.9792 - 340ms/epoch - 1ms/step\n"
     ]
    },
    {
     "data": {
      "text/plain": [
       "[0.08526293933391571, 0.979200005531311]"
      ]
     },
     "execution_count": 26,
     "metadata": {},
     "output_type": "execute_result"
    }
   ],
   "source": [
    "model.fit(x_train, y_train, batch_size=32, epochs=6, verbose=2)\n",
    "model.evaluate(x_test, y_test, batch_size=32, verbose=2)"
   ]
  }
 ],
 "metadata": {
  "kernelspec": {
   "display_name": "Python 3",
   "language": "python",
   "name": "python3"
  },
  "language_info": {
   "codemirror_mode": {
    "name": "ipython",
    "version": 3
   },
   "file_extension": ".py",
   "mimetype": "text/x-python",
   "name": "python",
   "nbconvert_exporter": "python",
   "pygments_lexer": "ipython3",
   "version": "3.11.5"
  }
 },
 "nbformat": 4,
 "nbformat_minor": 2
}
